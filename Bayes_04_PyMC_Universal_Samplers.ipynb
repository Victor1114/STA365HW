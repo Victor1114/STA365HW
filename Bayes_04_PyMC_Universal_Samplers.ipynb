{
  "cells": [
    {
      "cell_type": "markdown",
      "id": "cb3c5851",
      "metadata": {
        "id": "cb3c5851"
      },
      "source": [
        "# PyMC and Universal Samplers"
      ]
    },
    {
      "cell_type": "markdown",
      "id": "b44c33c2",
      "metadata": {
        "id": "b44c33c2"
      },
      "source": [
        "## Part A: `import pymc`"
      ]
    },
    {
      "cell_type": "code",
      "execution_count": 1,
      "id": "119069bd",
      "metadata": {
        "id": "119069bd"
      },
      "outputs": [],
      "source": [
        "import pymc"
      ]
    },
    {
      "cell_type": "markdown",
      "id": "7cb3f267",
      "metadata": {
        "id": "7cb3f267"
      },
      "source": [
        "- [Introductory Overview of PyMC](https://www.pymc.io/projects/docs/en/latest/learn/core_notebooks/pymc_overview.html)\n",
        "- [Example Gallary](https://www.pymc.io/projects/examples/en/latest/gallery.html)"
      ]
    },
    {
      "cell_type": "code",
      "execution_count": null,
      "id": "99eb4b23",
      "metadata": {
        "id": "99eb4b23"
      },
      "outputs": [],
      "source": [
        "print(f\"Running on PyMC v{pymc.__version__}\")"
      ]
    },
    {
      "cell_type": "code",
      "execution_count": null,
      "id": "8ba0a792",
      "metadata": {
        "id": "8ba0a792"
      },
      "outputs": [],
      "source": [
        "from scipy import stats\n",
        "import matplotlib.pyplot as plt\n",
        "import numpy as np"
      ]
    },
    {
      "cell_type": "code",
      "execution_count": null,
      "id": "b0383bb6",
      "metadata": {
        "id": "b0383bb6"
      },
      "outputs": [],
      "source": [
        "n = 100\n",
        "true_theta, true_tau = 0,1\n",
        "data_generating_mechanism = \\\n",
        "stats.norm(loc=true_theta, scale=true_tau**(-0.5))\n",
        "\n",
        "x = data_generating_mechanism.rvs(size=n)\n",
        "plt.hist(x, density=True)\n",
        "x_grid = np.linspace(-5*true_tau**(-0.5),5*true_tau**(-0.5),1000)\n",
        "plt.plot(x_grid,data_generating_mechanism.pdf(x_grid));\n"
      ]
    },
    {
      "cell_type": "code",
      "execution_count": null,
      "id": "b4c46236",
      "metadata": {
        "id": "b4c46236"
      },
      "outputs": [],
      "source": [
        "conjugate_normal_gamma = pymc.Model()\n",
        "\n",
        "with conjugate_normal_gamma:\n",
        "\n",
        "    # Priors for unknown model parameters\n",
        "\n",
        "    theta0 = 0  # prior belief regarding true_theta\n",
        "    theta_prior_n = 1  # strength of prior belief as units of data\n",
        "    # theta_prior_n = tau0/true_tau\n",
        "    tau0 = theta_prior_n*true_tau\n",
        "    theta = pymc.Normal(\"theta\", mu=theta0, sigma=tau0**(-0.5))\n",
        "    # Compared to scipy.stats\n",
        "    # loc -> mu\n",
        "    # scale -> sigma but you can also use tau as below...\n",
        "\n",
        "    tau_SS_prior = 1  # prior belief regarding true_sum_of_squares\n",
        "    tau_prior_n = 1  # strength of prior belief as units of data\n",
        "    tau = pymc.Gamma(\"tau\", alpha=tau_prior_n/2,\n",
        "                            beta=tau_SS_prior/2)\n",
        "    # https://en.wikipedia.org/wiki/Gamma_distribution\n",
        "    # pymc.Gamma?\n",
        "    # Now it's **rate** (beta) NOT scale\n",
        "\n",
        "    # Likelihood (sampling distribution) of observations\n",
        "    x_obs = pymc.Normal(\"x_obs\", mu=theta, tau=tau, observed=x)"
      ]
    },
    {
      "cell_type": "code",
      "execution_count": null,
      "id": "5370d9c5",
      "metadata": {
        "id": "5370d9c5"
      },
      "outputs": [],
      "source": [
        "pymc.model_to_graphviz(conjugate_normal_gamma)"
      ]
    },
    {
      "cell_type": "code",
      "execution_count": null,
      "id": "45dcd8e1",
      "metadata": {
        "id": "45dcd8e1"
      },
      "outputs": [],
      "source": [
        "m = 10000\n",
        "with conjugate_normal_gamma:\n",
        "    # draw m posterior samples\n",
        "    idata = pymc.sample(draws=m, chains=2, tune=100)\n",
        "    # arviz.InferenceData object"
      ]
    },
    {
      "cell_type": "markdown",
      "id": "ae84454f",
      "metadata": {
        "id": "ae84454f"
      },
      "source": [
        "## `idata` and `arviz as az`"
      ]
    },
    {
      "cell_type": "code",
      "execution_count": null,
      "id": "f297417f",
      "metadata": {
        "id": "f297417f"
      },
      "outputs": [],
      "source": [
        "idata"
      ]
    },
    {
      "cell_type": "code",
      "execution_count": null,
      "id": "03b1c94a",
      "metadata": {
        "id": "03b1c94a"
      },
      "outputs": [],
      "source": [
        "idata.posterior"
      ]
    },
    {
      "cell_type": "code",
      "execution_count": null,
      "id": "0c2e4e03",
      "metadata": {
        "id": "0c2e4e03"
      },
      "outputs": [],
      "source": [
        "idata.posterior['theta']"
      ]
    },
    {
      "cell_type": "code",
      "execution_count": null,
      "id": "3bb21172",
      "metadata": {
        "id": "3bb21172"
      },
      "outputs": [],
      "source": [
        "idata.posterior['tau']"
      ]
    },
    {
      "cell_type": "code",
      "execution_count": null,
      "id": "faf3f130",
      "metadata": {
        "id": "faf3f130"
      },
      "outputs": [],
      "source": [
        "theta = idata.posterior['theta'].values#.shape\n",
        "tau = idata.posterior['tau'].values#.shape\n",
        "\n",
        "fig,ax = plt.subplots(1, 4, figsize=(14,3));ax[0].set_title(\"$\\\\theta$ Burn-In\"); ax[1].set_title(\"$\\\\tau$ Burn-In\"); ax[2].set_title(\"$\\\\theta$ Converged Markov Chain\\nStationary Distribution Samples\"); ax[3].set_title(\"$\\\\tau$ Converged Markov Chain\\nStationary Distribution Samples\")\n",
        "\n",
        "# pymc.sample(draws=1000, chains=2, tune=100)\n",
        "# used 100 samples per chain to \"tune\" and these were\n",
        "# automatically discarded so `burn` is likely not needed\n",
        "burn = 20\n",
        "demo = 120\n",
        "C = 2\n",
        "for c in range(C):\n",
        "    ax[0].plot(theta[c,:burn], label=\"$\\\\theta$ Chain \"+str(c))\n",
        "    ax[1].plot(tau[c,:burn], label=\"$\\\\tau$ Chain \"+str(c))\n",
        "    ax[2].plot(np.arange(burn, demo, dtype=int), theta[c,burn:demo], label=\"$\\\\theta$ Chain \"+str(c))\n",
        "    ax[3].plot(np.arange(burn, demo, dtype=int), tau[c,burn:demo], label=\"$\\\\tau$ Chain \"+str(c))\n",
        "ax[0].legend(); ax[1].legend(); ax[2].legend(); ax[3].legend();"
      ]
    },
    {
      "cell_type": "code",
      "execution_count": null,
      "id": "62b0c0a9",
      "metadata": {
        "id": "62b0c0a9"
      },
      "outputs": [],
      "source": [
        "fig,ax = plt.subplots(1, 3, figsize=(16,4))\n",
        "ax[0].set_title(\"Marginal distribution of $\\\\theta$ (without burn-in)\\nof (joint posterior) stationary distribution\")\n",
        "ax[1].set_title(\"Marginal distribution of $\\\\tau$ (without burn-in)\\nof (joint posterior) stationary distribution\")\n",
        "ax[2].set_title(\"Joint (posterior) stationary distribution\\n(without burn-in)\")\n",
        "\n",
        "ax[0].hist(theta[0,burn:])\n",
        "ax[1].hist(tau[0,burn:])\n",
        "ax[2].plot(theta[0,burn:], tau[0,burn:], '.', alpha=0.1);\n",
        "demo = 3*burn\n",
        "ax[2].plot(theta[0,burn:demo], tau[0,burn:demo]);"
      ]
    },
    {
      "cell_type": "code",
      "execution_count": null,
      "id": "88f98c72",
      "metadata": {
        "id": "88f98c72"
      },
      "outputs": [],
      "source": [
        "import arviz as az"
      ]
    },
    {
      "cell_type": "code",
      "execution_count": null,
      "id": "9342060e",
      "metadata": {
        "id": "9342060e"
      },
      "outputs": [],
      "source": [
        "idata"
      ]
    },
    {
      "cell_type": "code",
      "execution_count": null,
      "id": "c884c49a",
      "metadata": {
        "id": "c884c49a"
      },
      "outputs": [],
      "source": [
        "az.plot_trace(idata, combined=True);"
      ]
    },
    {
      "cell_type": "code",
      "execution_count": null,
      "id": "655b9eb8",
      "metadata": {
        "id": "655b9eb8"
      },
      "outputs": [],
      "source": [
        "az.plot_trace(idata)\n",
        "plt.tight_layout()"
      ]
    },
    {
      "cell_type": "code",
      "execution_count": null,
      "id": "6092a7cc",
      "metadata": {
        "id": "6092a7cc"
      },
      "outputs": [],
      "source": [
        "m = 1000\n",
        "with conjugate_normal_gamma:\n",
        "    # draw m posterior samples\n",
        "    idata = pymc.sample(draws=m, chains=2, tune=100)\n",
        "    # arviz.InferenceData object\n",
        "\n",
        "theta = idata.posterior['theta'].values#.shape\n",
        "tau = idata.posterior['tau'].values#.shape"
      ]
    },
    {
      "cell_type": "code",
      "execution_count": null,
      "id": "1052910a",
      "metadata": {
        "id": "1052910a"
      },
      "outputs": [],
      "source": [
        "# If the messages below don't show\n",
        "\"\"\"Auto-assigning NUTS sampler...\n",
        "   Initializing NUTS using jitter+adapt_diag...\n",
        "   Multiprocess sampling (2 chains in 4 jobs)\n",
        "   NUTS: [theta, tau] \"\"\"\n",
        "# You can see this information by turning on logging\n",
        "import logging # dir(logging) for available functionality\n",
        "_log = logging.getLogger(\"pymc\")\n",
        "#_log.setLevel(logging.NOTSET) # 0\n",
        "_log.setLevel(logging.INFO) # 20\n",
        "#_log.setLevel(logging.WARNING) # 30\n",
        "#_log.setLevel(logging.ERROR) # 40"
      ]
    },
    {
      "cell_type": "code",
      "execution_count": null,
      "id": "8d6c0d09",
      "metadata": {
        "id": "8d6c0d09"
      },
      "outputs": [],
      "source": [
        "az.plot_forest(idata, var_names=[\"theta\", \"tau\"],\n",
        "               combined=False, hdi_prob=0.95, r_hat=True);\n"
      ]
    },
    {
      "cell_type": "markdown",
      "id": "eac953bc",
      "metadata": {
        "id": "eac953bc"
      },
      "source": [
        "## Part B: Posterior inference and diagnostics<br><sub>with `az.summary`</sub>"
      ]
    },
    {
      "cell_type": "code",
      "execution_count": null,
      "id": "c72989d4",
      "metadata": {
        "id": "c72989d4"
      },
      "outputs": [],
      "source": [
        "az.summary(idata, round_to=5)#2)"
      ]
    },
    {
      "cell_type": "code",
      "execution_count": null,
      "id": "10895b85",
      "metadata": {
        "id": "10895b85"
      },
      "outputs": [],
      "source": [
        "theta.ravel().shape"
      ]
    },
    {
      "cell_type": "markdown",
      "id": "b7766cf2",
      "metadata": {
        "id": "b7766cf2"
      },
      "source": [
        "### `mean` and `sd`"
      ]
    },
    {
      "cell_type": "code",
      "execution_count": null,
      "id": "c4065274",
      "metadata": {
        "id": "c4065274"
      },
      "outputs": [],
      "source": [
        "round_to=5\n",
        "theta.ravel().mean().round(round_to), tau.ravel().mean().round(round_to)"
      ]
    },
    {
      "cell_type": "code",
      "execution_count": null,
      "id": "d48f42a9",
      "metadata": {
        "id": "d48f42a9"
      },
      "outputs": [],
      "source": [
        "theta.ravel().std().round(round_to), tau.ravel().std().round(round_to)\n",
        "theta.ravel().std(ddof=1).round(round_to), tau.ravel().std(ddof=1).round(round_to)"
      ]
    },
    {
      "cell_type": "markdown",
      "id": "1b21887c",
      "metadata": {
        "id": "1b21887c"
      },
      "source": [
        "### `hdi_3%` and `hdi_97%`"
      ]
    },
    {
      "cell_type": "code",
      "execution_count": null,
      "id": "6eeef889",
      "metadata": {
        "id": "6eeef889"
      },
      "outputs": [],
      "source": [
        "az.summary(idata, round_to=5)#2)"
      ]
    },
    {
      "cell_type": "code",
      "execution_count": null,
      "id": "549fa647",
      "metadata": {
        "id": "549fa647"
      },
      "outputs": [],
      "source": [
        "np.quantile(theta,[0.05,0.95]).round(round_to)"
      ]
    },
    {
      "cell_type": "code",
      "execution_count": null,
      "id": "76d8d4c5",
      "metadata": {
        "id": "76d8d4c5"
      },
      "outputs": [],
      "source": [
        "np.quantile(theta,[0.025,0.975]).round(round_to)"
      ]
    },
    {
      "cell_type": "code",
      "execution_count": null,
      "id": "8969a06c",
      "metadata": {
        "id": "8969a06c"
      },
      "outputs": [],
      "source": [
        "np.quantile(theta,[0.03,0.97]).round(round_to)"
      ]
    },
    {
      "cell_type": "code",
      "execution_count": null,
      "id": "3b3a0dc7",
      "metadata": {
        "id": "3b3a0dc7"
      },
      "outputs": [],
      "source": [
        "# hdi_3% and hdi_97% is something like\n",
        "# move interval up or down until the smallest interval is found\n",
        "np.quantile(theta,[0.02,0.96]).round(round_to)"
      ]
    },
    {
      "cell_type": "code",
      "execution_count": null,
      "id": "8d498c87",
      "metadata": {
        "id": "8d498c87"
      },
      "outputs": [],
      "source": [
        "# so trying to get a bit closer for tau it's someting like\n",
        "np.quantile(tau,[0.022,0.9622]).round(round_to)"
      ]
    },
    {
      "cell_type": "markdown",
      "id": "a80be109",
      "metadata": {
        "id": "a80be109"
      },
      "source": [
        "### To consider `mcse_mean` and `mcse_sd`...\n",
        "\n",
        "- [...moments of moments and first order Taylor series approximation](https://mc-stan.org/posterior/reference/mcse_sd.html)"
      ]
    },
    {
      "cell_type": "code",
      "execution_count": null,
      "id": "dae25b97",
      "metadata": {
        "id": "dae25b97"
      },
      "outputs": [],
      "source": [
        "az.summary(idata, round_to=5)"
      ]
    },
    {
      "cell_type": "code",
      "execution_count": null,
      "id": "98cd3c52",
      "metadata": {
        "id": "98cd3c52"
      },
      "outputs": [],
      "source": [
        "az.summary(idata, round_to=5)['sd']['theta']/\\\n",
        "az.summary(idata, round_to=5)['ess_bulk']['theta']**0.5"
      ]
    },
    {
      "cell_type": "code",
      "execution_count": null,
      "id": "525402ec",
      "metadata": {
        "id": "525402ec"
      },
      "outputs": [],
      "source": [
        "az.summary(idata, round_to=5)['sd']['tau']/\\\n",
        "(az.summary(idata, round_to=5)['ess_bulk']['tau']+0)**0.5"
      ]
    },
    {
      "cell_type": "code",
      "execution_count": null,
      "id": "69c8d3f3",
      "metadata": {
        "id": "69c8d3f3"
      },
      "outputs": [],
      "source": [
        "((theta.ravel()-theta.ravel().mean())**2).var()/\\\n",
        "az.summary(idata, round_to=5)['ess_bulk']['theta']\n"
      ]
    },
    {
      "cell_type": "code",
      "execution_count": null,
      "id": "fac240b6",
      "metadata": {
        "id": "fac240b6"
      },
      "outputs": [],
      "source": [
        "# this estimates y which is the variance\n",
        "((theta.ravel()-theta.ravel().mean())**2).mean()\n",
        "theta.ravel().var()\n",
        "# square root of this estimates standard deviation\n",
        "# s = sqrt(y)\n",
        "\n",
        "# this estimates variance of y above estimator\n",
        "((theta.ravel()-theta.ravel().mean())**2).var()/\\\n",
        "az.summary(idata, round_to=5)['ess_bulk']['theta']\n",
        "\n",
        "# by the delta method\n",
        "# https://stats.stackexchange.com/questions/491845/how-is-delta-method-used-here-in-approximating-the-square-root-of-a-normal-rando\n",
        "# var(S) = (1/sqrt(E[Y]))**2 * Var(Y)\n",
        "\n",
        "((1/theta.ravel().var())*\\\n",
        " ((theta.ravel()-theta.ravel().mean())**2).var()/\\\n",
        " az.summary(idata, round_to=15)['ess_bulk']['theta'])**0.5\n",
        "\n",
        "# So it's not quite right...but then again it's maybe not exactly\n",
        "# https://mc-stan.org/posterior/reference/mcse_sd.html\n",
        "# \"Compute the Monte Carlo standard error for the\n",
        "#  standard deviation (SD) of a single variable\n",
        "#  without assuming normality using moments of moments\n",
        "#  and first order Taylor series approximation\n",
        "#  (Kenney and Keeping, 1951, p. 141).\""
      ]
    },
    {
      "cell_type": "code",
      "execution_count": null,
      "id": "9b83ecf5",
      "metadata": {
        "id": "9b83ecf5"
      },
      "outputs": [],
      "source": [
        "((1/tau.ravel().var())*\\\n",
        " ((tau.ravel()-tau.ravel().mean())**2).var()/\\\n",
        " az.summary(idata, round_to=15)['ess_bulk']['tau'])**0.5"
      ]
    },
    {
      "cell_type": "code",
      "execution_count": null,
      "id": "768d3418",
      "metadata": {
        "id": "768d3418"
      },
      "outputs": [],
      "source": [
        "az.summary(idata, round_to=5)"
      ]
    },
    {
      "cell_type": "markdown",
      "id": "c7bb7fd9",
      "metadata": {
        "id": "c7bb7fd9"
      },
      "source": [
        "### We must first consider `bulk_tail` and `ess_tail`...\n",
        "\n",
        "- [bulk_tail](https://mc-stan.org/posterior/reference/ess_bulk.html)\n",
        "- [ess_tail](https://mc-stan.org/posterior/reference/ess_tail.html)\n",
        "\n",
        "#### Effective sample size\n",
        "\n",
        "$$n_{\\text{eff}} = \\frac{m}{\\sum_{k=-\\infty}^\\infty\\rho_k} = \\frac{m}{1+2\\sum_{k=1}^\\infty\\rho_k} \\quad \\text{ for order $k$ autocorrelations } \\quad \\rho_k $$\n"
      ]
    },
    {
      "cell_type": "code",
      "execution_count": null,
      "id": "2bd44cb3",
      "metadata": {
        "id": "2bd44cb3"
      },
      "outputs": [],
      "source": [
        "theta_in_tail = \\\n",
        "(theta<=np.quantile(theta.ravel(),0.05))#+\\\n",
        "(theta>=np.quantile(theta.ravel(),0.95))\n",
        "print(theta_in_tail.sum()/(2*m))\n",
        "theta_in_tail"
      ]
    },
    {
      "cell_type": "code",
      "execution_count": null,
      "id": "d5bcb63d",
      "metadata": {
        "id": "d5bcb63d"
      },
      "outputs": [],
      "source": [
        "m = 1000\n",
        "K = 30\n",
        "autocorrelations = np.ones((2,int(m/2)))\n",
        "for c in range(C):\n",
        "    for t_plus_k in range(1, int(m/2)):\n",
        "        autocorrelations[c,t_plus_k] = \\\n",
        "        np.corrcoef(theta_in_tail[c,:-t_plus_k],\n",
        "                    theta_in_tail[c,t_plus_k:])[0,1]\n",
        "\n",
        "for c in range(C):\n",
        "    plt.plot(autocorrelations[c,:K], label=\"Chain \"+str(c))\n",
        "\n",
        "# effective sample size\n",
        "approximation_stops=[5,4]\n",
        "approximation_stops,\n",
        "m / (1 + 2*autocorrelations[0,1:approximation_stops[0]].sum())+\\\n",
        "m / (1 + 2*autocorrelations[1,1:approximation_stops[1]].sum())\n"
      ]
    },
    {
      "cell_type": "code",
      "execution_count": null,
      "id": "6a10dd5f",
      "metadata": {
        "id": "6a10dd5f"
      },
      "outputs": [],
      "source": [
        "autocorrelations[:,:10]"
      ]
    },
    {
      "cell_type": "code",
      "execution_count": null,
      "id": "374b0c6d",
      "metadata": {
        "id": "374b0c6d"
      },
      "outputs": [],
      "source": [
        "tau_in_tail = \\\n",
        "(tau<=np.quantile(tau.ravel(),0.05))+\\\n",
        "(tau>=np.quantile(tau.ravel(),0.95))\n",
        "print(tau_in_tail.sum()/(2*m))\n",
        "tau_in_tail"
      ]
    },
    {
      "cell_type": "code",
      "execution_count": null,
      "id": "1b2fc711",
      "metadata": {
        "id": "1b2fc711"
      },
      "outputs": [],
      "source": [
        "m = 1000\n",
        "K = 30\n",
        "autocorrelations = np.ones((2,m-1))\n",
        "for c in range(C):\n",
        "    for t_plus_k in range(1, int(m/2)):\n",
        "        autocorrelations[c,t_plus_k] = \\\n",
        "        np.corrcoef(tau_in_tail[c,:-t_plus_k],\n",
        "                    tau_in_tail[c,t_plus_k:])[0,1]\n",
        "\n",
        "for c in range(C):\n",
        "    plt.plot(autocorrelations[c,:K], label=\"Chain \"+str(c))\n",
        "\n",
        "# effective sample size\n",
        "approximation_stops=[8,6]\n",
        "approximation_stops,\n",
        "m / (1 + 2*autocorrelations[0,1:approximation_stops[0]].sum())+\\\n",
        "m / (1 + 2*autocorrelations[1,1:approximation_stops[1]].sum())"
      ]
    },
    {
      "cell_type": "code",
      "execution_count": null,
      "id": "2ea74649",
      "metadata": {
        "id": "2ea74649"
      },
      "outputs": [],
      "source": [
        "autocorrelations[:,:20]"
      ]
    },
    {
      "cell_type": "code",
      "execution_count": null,
      "id": "fbb48e9a",
      "metadata": {
        "id": "fbb48e9a"
      },
      "outputs": [],
      "source": [
        "az.summary(idata, round_to=5)"
      ]
    },
    {
      "cell_type": "markdown",
      "id": "cc7fbe71",
      "metadata": {
        "id": "cc7fbe71"
      },
      "source": [
        "#### Reminder\n",
        "\n",
        "- [bulk_tail](https://mc-stan.org/posterior/reference/ess_bulk.html)\n",
        "- [ess_tail](https://mc-stan.org/posterior/reference/ess_tail.html)\n",
        "\n",
        "#### Effective sample size\n",
        "\n",
        "$$n_{\\text{eff}} = \\frac{m}{\\sum_{k=-\\infty}^\\infty\\rho_k} = \\frac{m}{1+2\\sum_{k=1}^\\infty\\rho_k} \\quad \\text{ for order $k$ autocorrelations } \\quad \\rho_k $$\n"
      ]
    },
    {
      "cell_type": "code",
      "execution_count": null,
      "id": "33be7370",
      "metadata": {
        "id": "33be7370"
      },
      "outputs": [],
      "source": [
        "m = 1000\n",
        "K = 30\n",
        "autocorrelations = np.ones((2,int(m/2)))\n",
        "for c in range(C):\n",
        "    for t_plus_k in range(1, int(m/2)):\n",
        "        autocorrelations[c,t_plus_k] = \\\n",
        "        np.corrcoef(theta[c,:-t_plus_k],\n",
        "                    theta[c,t_plus_k:])[0,1]\n",
        "\n",
        "for c in range(C):\n",
        "    plt.plot(autocorrelations[c,:K], label=\"Chain \"+str(c))\n",
        "\n",
        "# effective sample size\n",
        "approximation_stops=[3,4]\n",
        "approximation_stops,\n",
        "m / (1 + 2*autocorrelations[0,1:approximation_stops[0]].sum())+\\\n",
        "m / (1 + 2*autocorrelations[1,1:approximation_stops[1]].sum())\n"
      ]
    },
    {
      "cell_type": "code",
      "execution_count": null,
      "id": "8bfba2c5",
      "metadata": {
        "id": "8bfba2c5"
      },
      "outputs": [],
      "source": [
        "autocorrelations[:,:10]"
      ]
    },
    {
      "cell_type": "code",
      "execution_count": null,
      "id": "dcd7a1be",
      "metadata": {
        "id": "dcd7a1be"
      },
      "outputs": [],
      "source": [
        "m = 1000\n",
        "K = 30\n",
        "autocorrelations = np.ones((2,int(m/2)))\n",
        "for c in range(C):\n",
        "    for t_plus_k in range(1, int(m/2)):\n",
        "        autocorrelations[c,t_plus_k] = \\\n",
        "        np.corrcoef(tau[c,:-t_plus_k],\n",
        "                    tau[c,t_plus_k:])[0,1]\n",
        "\n",
        "for c in range(C):\n",
        "    plt.plot(autocorrelations[c,:K], label=\"Chain \"+str(c))\n",
        "\n",
        "# effective sample size\n",
        "approximation_stops=[5,7]\n",
        "approximation_stops,\n",
        "m / (1 + 2*autocorrelations[0,1:approximation_stops[0]].sum())+\\\n",
        "m / (1 + 2*autocorrelations[1,1:approximation_stops[1]].sum())\n"
      ]
    },
    {
      "cell_type": "code",
      "execution_count": null,
      "id": "960f2b49",
      "metadata": {
        "id": "960f2b49"
      },
      "outputs": [],
      "source": [
        "autocorrelations[:,:10]"
      ]
    },
    {
      "cell_type": "code",
      "execution_count": null,
      "id": "e6808dba",
      "metadata": {
        "id": "e6808dba"
      },
      "outputs": [],
      "source": [
        "az.summary(idata, round_to=5)"
      ]
    },
    {
      "cell_type": "code",
      "execution_count": null,
      "id": "8bd50ce7",
      "metadata": {
        "id": "8bd50ce7"
      },
      "outputs": [],
      "source": [
        "fig,ax = plt.subplots(1,2,figsize=(10,4))\n",
        "ax[0].plot(theta.ravel()[:-1], theta.ravel()[1:], '.', alpha=0.25)\n",
        "ax[1].plot(tau.ravel()[:-1], tau.ravel()[1:], '.', alpha=0.25);"
      ]
    },
    {
      "cell_type": "markdown",
      "id": "aff2f9ad",
      "metadata": {
        "id": "aff2f9ad"
      },
      "source": [
        "## Part C: R-hat and \"energy\"\n",
        "\n",
        "A lack of insufficient \"mixing\" (agreement) between chains is diagnosed by comparing within and between chain variability. This is done by **checking if the split-$\\hat R$ statistic is greater than** $\\mathbf{1.05}$. is deemed sufficient when . This is suggestive (but not proof) that the the **Markov chains** have converged to their **stationary distributions**.\n",
        "\n",
        "> Thus far above we have avoided the notion of \"split\" chains. Split chains must be considered to ensure that a \"drifting chain\" does not accidentally pass the $\\hat R$ check. Thus the split-$\\hat R$ statistic.\n",
        "\n",
        "\n",
        "$\\Large \\text{Split-}\\hat R  = \\sqrt{\\frac{\\frac{N-1}{N}W +  \\overbrace{\\frac{1}{M-1}\\sum_{m=1}^M (\\overline{\\theta^{(m,\\cdot)}} - \\overline{\\theta^{(\\cdot,\\cdot)}})^2}^{\\text{between chain variance}} }{\\underbrace{\\frac{1}{M}\\sum_{m=1}^M \\frac{1}{N-1}\\sum_{n=1}^N (\\theta^{(m,n)} - \\overline{\\theta^{(m,\\cdot)}})^2}_{\\text{$W$: within chain variance}}} } $"
      ]
    },
    {
      "cell_type": "code",
      "execution_count": null,
      "id": "727c8884",
      "metadata": {
        "id": "727c8884"
      },
      "outputs": [],
      "source": [
        "az.summary(idata, round_to=5)"
      ]
    },
    {
      "cell_type": "code",
      "execution_count": null,
      "id": "12c1a5c7",
      "metadata": {
        "id": "12c1a5c7"
      },
      "outputs": [],
      "source": [
        "az.plot_trace(idata)\n",
        "plt.tight_layout()"
      ]
    },
    {
      "cell_type": "markdown",
      "id": "253a2716",
      "metadata": {
        "id": "253a2716"
      },
      "source": [
        "### Energy\n",
        "\n",
        "Another diagnostic that sometimes applies is based on the so-called [energy](https://discourse.mc-stan.org/t/help-understanding-bfmi-interpreting-bfmi-1/28554). The exact meaning of \"energy\" will be discussed next class but for now suffice it to say that when the \"Energy transition\" fails to dominate the \"Marginal energy\" the sampler is experiencing a computational bottleneck.\n"
      ]
    },
    {
      "cell_type": "code",
      "execution_count": null,
      "id": "89548968",
      "metadata": {
        "id": "89548968"
      },
      "outputs": [],
      "source": [
        "az.plot_energy(idata);"
      ]
    },
    {
      "cell_type": "markdown",
      "id": "6abb985d",
      "metadata": {
        "id": "6abb985d"
      },
      "source": [
        "## Part D: Samplers\n"
      ]
    },
    {
      "cell_type": "code",
      "execution_count": null,
      "id": "b98a0d24",
      "metadata": {
        "id": "b98a0d24"
      },
      "outputs": [],
      "source": [
        "pymc.sample?"
      ]
    },
    {
      "cell_type": "code",
      "execution_count": null,
      "id": "f98d072b",
      "metadata": {
        "id": "f98d072b"
      },
      "outputs": [],
      "source": [
        "with conjugate_normal_gamma:\n",
        "    HMC = pymc.HamiltonianMC()\n",
        "    idata_HMC = pymc.sample(chains=4, step=HMC)\n",
        "\n",
        "display(az.summary(idata_HMC, round_to=2))\n",
        "az.plot_trace(idata_HMC)\n",
        "plt.tight_layout()"
      ]
    },
    {
      "cell_type": "code",
      "execution_count": null,
      "id": "d3222eaf",
      "metadata": {
        "id": "d3222eaf"
      },
      "outputs": [],
      "source": [
        "# theta rejection rates\n",
        "(idata_HMC.posterior.theta.values[:,:-1]==idata_HMC.posterior.theta.values[:,1:]).mean(axis=1)"
      ]
    },
    {
      "cell_type": "code",
      "execution_count": null,
      "id": "161b821c",
      "metadata": {
        "id": "161b821c"
      },
      "outputs": [],
      "source": [
        "# tau rejection rates\n",
        "(idata_HMC.posterior.tau.values[:,:-1]==idata_HMC.posterior.tau.values[:,1:]).mean(axis=1)"
      ]
    },
    {
      "cell_type": "code",
      "execution_count": null,
      "id": "5920ddd2",
      "metadata": {
        "id": "5920ddd2"
      },
      "outputs": [],
      "source": [
        "fig,ax = plt.subplots(1,2,figsize=(10,4))\n",
        "ax[0].plot(idata_HMC.posterior.theta.values.ravel()[:-1],\n",
        "           idata_HMC.posterior.theta.values.ravel()[1:], '.', alpha=0.25)\n",
        "ax[1].plot(idata_HMC.posterior.tau.values.ravel()[:-1],\n",
        "           idata_HMC.posterior.tau.values.ravel()[1:], '.', alpha=0.25);"
      ]
    },
    {
      "cell_type": "code",
      "execution_count": null,
      "id": "a87933d6",
      "metadata": {
        "id": "a87933d6"
      },
      "outputs": [],
      "source": [
        "with conjugate_normal_gamma:\n",
        "    idata = pymc.sample(chains=4, target_accept=0.9)\n",
        "\n",
        "display(az.summary(idata, round_to=2))\n",
        "az.plot_trace(idata)\n",
        "plt.tight_layout()"
      ]
    },
    {
      "cell_type": "code",
      "execution_count": null,
      "id": "17b6cf85",
      "metadata": {
        "id": "17b6cf85"
      },
      "outputs": [],
      "source": [
        "import pandas as pd\n",
        "display(pd.DataFrame(idata.sample_stats.acceptance_rate))\n",
        "# rejection rates\n",
        "1-idata.sample_stats.acceptance_rate.values.mean(axis=1)"
      ]
    },
    {
      "cell_type": "code",
      "execution_count": null,
      "id": "6d430875",
      "metadata": {
        "id": "6d430875"
      },
      "outputs": [],
      "source": [
        "fig,ax = plt.subplots(1,2,figsize=(10,4))\n",
        "ax[0].plot(idata.posterior.theta.values.ravel()[:-1],\n",
        "           idata.posterior.theta.values.ravel()[1:], '.', alpha=0.25)\n",
        "ax[1].plot(idata.posterior.tau.values.ravel()[:-1],\n",
        "           idata.posterior.tau.values.ravel()[1:], '.', alpha=0.25);"
      ]
    },
    {
      "cell_type": "code",
      "execution_count": null,
      "id": "0f8db5c6",
      "metadata": {
        "id": "0f8db5c6"
      },
      "outputs": [],
      "source": [
        "with conjugate_normal_gamma:\n",
        "    sampler = pymc.Slice()\n",
        "    idata_slice = pymc.sample(step=sampler)\n",
        "\n",
        "display(az.summary(idata_slice, round_to=2))\n",
        "az.plot_trace(idata_slice)\n",
        "plt.tight_layout()"
      ]
    },
    {
      "cell_type": "code",
      "execution_count": null,
      "id": "7ddd6094",
      "metadata": {
        "id": "7ddd6094"
      },
      "outputs": [],
      "source": [
        "# theta rejection rates\n",
        "(idata_slice.posterior.theta.values[:,:-1]==idata_slice.posterior.theta.values[:,1:]).mean(axis=1)"
      ]
    },
    {
      "cell_type": "code",
      "execution_count": null,
      "id": "b2b64e52",
      "metadata": {
        "id": "b2b64e52"
      },
      "outputs": [],
      "source": [
        "# tau rejection rates\n",
        "(idata_slice.posterior.tau.values[:,:-1]==idata_slice.posterior.tau.values[:,1:]).mean(axis=1)"
      ]
    },
    {
      "cell_type": "code",
      "execution_count": null,
      "id": "fe14d3ce",
      "metadata": {
        "id": "fe14d3ce"
      },
      "outputs": [],
      "source": [
        "fig,ax = plt.subplots(1,2,figsize=(10,4))\n",
        "ax[0].plot(idata_slice.posterior.theta.values.ravel()[:-1],\n",
        "           idata_slice.posterior.theta.values.ravel()[1:], '.', alpha=0.25)\n",
        "ax[1].plot(idata_slice.posterior.tau.values.ravel()[:-1],\n",
        "           idata_slice.posterior.tau.values.ravel()[1:], '.', alpha=0.25);"
      ]
    },
    {
      "cell_type": "code",
      "execution_count": null,
      "id": "182a1539",
      "metadata": {
        "id": "182a1539"
      },
      "outputs": [],
      "source": [
        "with conjugate_normal_gamma:\n",
        "    MHv1 = pymc.Metropolis(S=np.ones(1), scaling=1, tune=False)\n",
        "    idata_MHv1 = pymc.sample(draws=1000, tune=0, chains=4, step=MHv1)\n",
        "\n",
        "display(az.summary(idata_MHv1, round_to=2))\n",
        "az.plot_trace(idata_MHv1)\n",
        "plt.tight_layout()"
      ]
    },
    {
      "cell_type": "code",
      "execution_count": null,
      "id": "cbcb246a",
      "metadata": {
        "id": "cbcb246a"
      },
      "outputs": [],
      "source": [
        "# theta rejection rates\n",
        "(idata_MHv1.posterior.theta.values[:,:-1]==idata_MHv1.posterior.theta.values[:,1:]).mean(axis=1)"
      ]
    },
    {
      "cell_type": "code",
      "execution_count": null,
      "id": "3aa353f3",
      "metadata": {
        "id": "3aa353f3"
      },
      "outputs": [],
      "source": [
        "# tau rejection rates\n",
        "(idata_MHv1.posterior.tau.values[:,:-1]==idata_MHv1.posterior.tau.values[:,1:]).mean(axis=1)"
      ]
    },
    {
      "cell_type": "code",
      "execution_count": null,
      "id": "cc37e2eb",
      "metadata": {
        "id": "cc37e2eb"
      },
      "outputs": [],
      "source": [
        "fig,ax = plt.subplots(1,2,figsize=(10,4))\n",
        "ax[0].plot(idata_MHv1.posterior.theta.values.ravel()[:-1],\n",
        "           idata_MHv1.posterior.theta.values.ravel()[1:], '.', alpha=0.25)\n",
        "ax[1].plot(idata_MHv1.posterior.tau.values.ravel()[:-1],\n",
        "           idata_MHv1.posterior.tau.values.ravel()[1:], '.', alpha=0.25);"
      ]
    },
    {
      "cell_type": "code",
      "execution_count": null,
      "id": "d3a89e75",
      "metadata": {
        "id": "d3a89e75"
      },
      "outputs": [],
      "source": [
        "with conjugate_normal_gamma:\n",
        "    MHv2 = pymc.Metropolis(S=np.ones(1), scaling=0.1, tune=False)\n",
        "    idata_MHv2 = pymc.sample(draws=1000, tune=0, chains=4, step=MHv2)\n",
        "\n",
        "display(az.summary(idata_MHv2, round_to=2))\n",
        "az.plot_trace(idata_MHv2)\n",
        "plt.tight_layout()"
      ]
    },
    {
      "cell_type": "code",
      "execution_count": null,
      "id": "626112f1",
      "metadata": {
        "id": "626112f1"
      },
      "outputs": [],
      "source": [
        "# theta rejection rates\n",
        "(idata_MHv2.posterior.theta.values[:,:-1]==idata_MHv2.posterior.theta.values[:,1:]).mean(axis=1)"
      ]
    },
    {
      "cell_type": "code",
      "execution_count": null,
      "id": "176fe6f0",
      "metadata": {
        "id": "176fe6f0"
      },
      "outputs": [],
      "source": [
        "# tau rejection rates\n",
        "(idata_MHv2.posterior.tau.values[:,:-1]==idata_MHv2.posterior.tau.values[:,1:]).mean(axis=1)"
      ]
    },
    {
      "cell_type": "code",
      "execution_count": null,
      "id": "f3ab5895",
      "metadata": {
        "id": "f3ab5895"
      },
      "outputs": [],
      "source": [
        "fig,ax = plt.subplots(1,2,figsize=(10,4))\n",
        "ax[0].plot(idata_MHv2.posterior.theta.values.ravel()[:-1],\n",
        "           idata_MHv2.posterior.theta.values.ravel()[1:], '.', alpha=0.25)\n",
        "ax[1].plot(idata_MHv2.posterior.tau.values.ravel()[:-1],\n",
        "           idata_MHv2.posterior.tau.values.ravel()[1:], '.', alpha=0.25);"
      ]
    },
    {
      "cell_type": "markdown",
      "id": "afaf412f",
      "metadata": {
        "id": "afaf412f"
      },
      "source": [
        "## Week 5 Homework\n",
        "\n",
        "---\n",
        "\n",
        "### Q1: Questions about PyMC...\n",
        "\n",
        "Complete this formatted markdown listing of the contents of \"PyMC Example Gallery\". *Include links and your favorite image (right click and \"copy image address\") from each page.*\n",
        "\n",
        "\n",
        "#### Introductory\n",
        "\n",
        "- [General Overview](https://www.pymc.io/projects/docs/en/stable/learn/core_notebooks/pymc_overview.html)\n",
        "- [Simple Linear Regression](https://www.pymc.io/projects/docs/en/stable/learn/core_notebooks/GLM_linear.html)\n",
        "- [General API quickstart](https://www.pymc.io/projects/examples/en/latest/introductory/api_quickstart.html)\n",
        "\n",
        "| | | |\n",
        "|-|-|-|\n",
        "|![](https://www.pymc.io/projects/docs/en/stable/_images/ac30f30b2297ec4f2bb798b4f28d2cbba2d0502dbaae4a5f78fdd5cccacda517.svg)|<img src=\"https://www.pymc.io/projects/docs/en/stable/_images/a8276d1222c43c061dbfff6fa3ff3af15b86038fd7d1e204c429ae3714ea1a20.png\"  width=\"500\"/>|![](https://www.pymc.io/projects/examples/en/latest/_images/434538d8660bf2399ebf9df11cbd2b7cec62d8abafc588da625315074b628118.png)|\n",
        "\n",
        "#### Library Fundamentals\n",
        "\n",
        "- [Distribution Dimensionality](https://www.pymc.io/projects/docs/en/stable/learn/core_notebooks/dimensionality.html)\n",
        "- [PyMC and PyTensor](https://www.pymc.io/projects/docs/en/stable/learn/core_notebooks/pymc_pytensor.html)\n",
        "- [Using Data Containers](https://www.pymc.io/projects/examples/en/latest/fundamentals/data_container.html)\n",
        "\n",
        "| | | |\n",
        "|-|-|-|\n",
        "|![](https://www.pymc.io/projects/docs/en/stable/_images/acfb0536de4db53baddb8a6d632d6efdc65c01eedeee1a90b7b1e1dd45db4c16.svg)|![](https://raw.githubusercontent.com/pymc-devs/pytensor/main/doc/tutorial/apply.png)|![](https://www.pymc.io/projects/examples/en/latest/_images/90f5f05f83d677cb540fc16bcf5962b15949b9cf531848fe6b20c02a7e271e24.svg)|\n",
        "\n",
        "\n",
        "#### Etc.\n",
        "\n",
        "- 1.[A Primer on Bayesian Methods for Multilevel Modeling](https://www.pymc.io/projects/examples/en/latest/generalized_linear_models/multilevel_modeling.html)\n",
        "- 2.[Out-Of-Sample Predictions](https://www.pymc.io/projects/examples/en/latest/generalized_linear_models/GLM-out-of-sample-predictions.html)\n",
        "- 3.[Binomial regression](https://www.pymc.io/projects/examples/en/latest/generalized_linear_models/GLM-binomial-regression.html)\n",
        "- 4.[GLM-missing-values-in-covariates](https://www.pymc.io/projects/examples/en/latest/generalized_linear_models/GLM-missing-values-in-covariates.html)\n",
        "- 5.[Regression Models with Ordered Categorical Outcomes](https://www.pymc.io/projects/examples/en/latest/generalized_linear_models/GLM-ordinal-regression.html)\n",
        "- 6.[Discrete Choice and Random Utility Models](https://www.pymc.io/projects/examples/en/latest/generalized_linear_models/GLM-discrete-choice_models.html)\n",
        "- 7.[GLM: Robust Regression using Custom Likelihood for Outlier Classification](https://www.pymc.io/projects/examples/en/latest/generalized_linear_models/GLM-robust-with-outlier-detection.html)\n",
        "- 8.[Simpson’s paradox](https://www.pymc.io/projects/examples/en/latest/causal_inference/GLM-simpsons-paradox.html)\n",
        "- 9.[Interrupted time series analysis](https://www.pymc.io/projects/examples/en/latest/causal_inference/interrupted_time_series.html)\n",
        "- 10.[Counterfactual inference: calculating excess deaths due to COVID-19](https://www.pymc.io/projects/examples/en/latest/causal_inference/excess_deaths.html)\n",
        "- 11.[Introduction to Bayesian A/B Testing](https://www.pymc.io/projects/examples/en/latest/causal_inference/bayesian_ab_testing_introduction.html)\n",
        "- 12.[Kronecker Structured Covariances](https://www.pymc.io/projects/examples/en/latest/gaussian_processes/GP-Kron.html)\n",
        "- 13.[Gaussian Processes: Latent Variable Implementation](https://www.pymc.io/projects/examples/en/latest/gaussian_processes/GP-Latent.html)\n",
        "\n",
        "| | | | |\n",
        "|-|-|-|-|\n",
        "|![](https://www.pymc.io/projects/examples/en/latest/_images/8c391b5a5d0a466c41c1abaf5cf4ddb1278e268ba56361003f42b02b4684c181.svg)|![](https://www.pymc.io/projects/examples/en/latest/_images/300d0cf80648831ccb0009c099225a7540f30c1fc7e80e3cd24f2dcaf375f6bd.png)|![](https://www.pymc.io/projects/examples/en/latest/_images/416e190e3cba27b9495347b6b596b1c634994cf1b232c9b02da86c99b9e3d03c.svg)|![](https://www.pymc.io/projects/examples/en/latest/_images/985e3771701853b6c582c314da571199130d76599e4bdfa48dea7f1285ab550f.svg)|\n",
        "|![](https://www.pymc.io/projects/examples/en/latest/_images/bcfde70f4463aa317773d22138844a351017dcb759e243cbc046495501ac5e85.svg)|![](https://www.pymc.io/projects/examples/en/latest/_images/7f7dc6b81110881a888c14d6532de5f4e5993aad85e141bce5d3ebadfc75590b.svg)|![](https://www.pymc.io/projects/examples/en/latest/_images/5435a742fd4cdea7455782b3bd158803caad25eb5f7a500a7e6bc84ce1415e72.svg)|![](https://www.pymc.io/projects/examples/en/latest/_images/852847856bacd9b43ed0e5b47b52780a18b9d5cc4d52908995ce1a54b2a474f0.svg)|\n",
        "|![](https://www.pymc.io/projects/examples/en/latest/_images/07d35f8ce735c0bef9e204ad7e609371f84bfdcf6b938a252845dc6e65ff3004.svg)|![](https://www.pymc.io/projects/examples/en/latest/_images/2e0c2c7923bb7e22a418e60653170b206d80f638c5937e50a180c45094f4f042.png)|![](https://www.pymc.io/projects/examples/en/latest/_images/05b1553c08b71229f5a0dbd8faf3041e01ccd3467e0c74d2745edeb447014f11.png)|![](https://www.pymc.io/projects/examples/en/latest/_images/f47ff99a7109188e15e5f39c15c8da84c90d147a307587f333bed35406ebe1f2.svg)|![]()|\n",
        "\n",
        "| |\n",
        "|-|\n",
        "|![](https://www.pymc.io/projects/examples/en/latest/_images/39603df4f63e88e15dfca57f1eaf6f6aa6385cc08c9e8de8fce0ae99d7ae2162.png)|\n",
        "\n",
        "\n",
        "### Q2: Continue \"Q2\" of the previous weeks 3 and 4\n",
        "\n",
        "1. *Use PyMC to provide Bayesian inference for the paramaters associated with a sample of normal data where your prior for theta is a normal distribution and your prior for $\\tau$ is a gamma distribution. Provide diagnostic assessments of the performance of your algorithm.*\n",
        "\n",
        "2. *Use PyMC to provide Bayesian inference for the paramaters associated with a sample of normal data where your prior for theta is a non normal distribution and your prior for $\\tau$ is a non-gamma distribution. Provide diagnostic assessments of the performance of your algorithm.*\n",
        "\n",
        "3. *Use PyMC to provide Bayesian inference for the paramaters associated with a sample of normal data where your prior for theta is a yet another different again non normal distribution and your prior for $\\tau$ is a yet another different again non-gamma distribution. Provide diagnostic assessments of the performance of your algorithm.*\n",
        "\n"
      ]
    },
    {
      "cell_type": "code",
      "source": [
        "import pymc as pm\n",
        "import numpy as np\n",
        "import arviz as az\n",
        "import matplotlib.pyplot as plt\n",
        "\n",
        "# Generate observed data\n",
        "np.random.seed(42)\n",
        "data = np.random.normal(loc=5, scale=2, size=100)\n",
        "\n",
        "# PyMC Model 1\n",
        "with pm.Model() as model1:\n",
        "    theta = pm.Normal(\"theta\", mu=0, sigma=10)  # Normal prior\n",
        "    tau = pm.Gamma(\"tau\", alpha=2, beta=1)  # Gamma prior\n",
        "    y_obs = pm.Normal(\"y_obs\", mu=theta, sigma=1/pm.math.sqrt(tau), observed=data)  # Likelihood model\n",
        "    trace1 = pm.sample(2000, return_inferencedata=True)  # Sampling\n",
        "\n",
        "# Compute diagnostics\n",
        "print(\"Model 1: Effective Sample Size\")\n",
        "print(az.ess(trace1))\n",
        "\n",
        "# Plot posterior distributions\n",
        "az.plot_posterior(trace1, var_names=[\"theta\", \"tau\"], figsize=(10, 4))\n",
        "plt.suptitle(\"Model 1: Posterior\")\n",
        "plt.show()\n"
      ],
      "metadata": {
        "colab": {
          "base_uri": "https://localhost:8080/",
          "height": 557,
          "referenced_widgets": [
            "1f967221c299477cb2e1b0280039e40c",
            "866920aae97c40889c89798a0a8f4fd9",
            "22891abb6d8440ce87a93f3896426710",
            "536bd64af52644f8b4130ccc22e4c65f"
          ]
        },
        "id": "ZNj9f_SHPaH0",
        "outputId": "e20d0408-40af-48dc-cde8-0ca56b327656"
      },
      "id": "ZNj9f_SHPaH0",
      "execution_count": 6,
      "outputs": [
        {
          "output_type": "display_data",
          "data": {
            "text/plain": [
              "Output()"
            ],
            "application/vnd.jupyter.widget-view+json": {
              "version_major": 2,
              "version_minor": 0,
              "model_id": "1f967221c299477cb2e1b0280039e40c"
            }
          },
          "metadata": {}
        },
        {
          "output_type": "display_data",
          "data": {
            "text/plain": [],
            "text/html": [
              "<pre style=\"white-space:pre;overflow-x:auto;line-height:normal;font-family:Menlo,'DejaVu Sans Mono',consolas,'Courier New',monospace\"></pre>\n"
            ]
          },
          "metadata": {}
        },
        {
          "output_type": "display_data",
          "data": {
            "text/plain": [
              "Output()"
            ],
            "application/vnd.jupyter.widget-view+json": {
              "version_major": 2,
              "version_minor": 0,
              "model_id": "22891abb6d8440ce87a93f3896426710"
            }
          },
          "metadata": {}
        },
        {
          "output_type": "display_data",
          "data": {
            "text/plain": [],
            "text/html": [
              "<pre style=\"white-space:pre;overflow-x:auto;line-height:normal;font-family:Menlo,'DejaVu Sans Mono',consolas,'Courier New',monospace\"></pre>\n"
            ]
          },
          "metadata": {}
        },
        {
          "output_type": "stream",
          "name": "stdout",
          "text": [
            "Model 1: Effective Sample Size\n",
            "<xarray.Dataset> Size: 16B\n",
            "Dimensions:  ()\n",
            "Data variables:\n",
            "    tau      float64 8B 3.955e+03\n",
            "    theta    float64 8B 3.18e+03\n"
          ]
        },
        {
          "output_type": "display_data",
          "data": {
            "text/plain": [
              "<Figure size 1000x400 with 2 Axes>"
            ],
            "image/png": "[encoded data removed]"
          },
          "metadata": {}
        }
      ]
    },
    {
      "cell_type": "code",
      "source": [
        "# PyMC Model 2\n",
        "with pm.Model() as model2:\n",
        "    theta = pm.StudentT(\"theta\", nu=3, mu=0, sigma=10)  # Student-T prior\n",
        "    tau = pm.HalfNormal(\"tau\", sigma=1)  # Half-Normal prior\n",
        "    y_obs = pm.Normal(\"y_obs\", mu=theta, sigma=1/pm.math.sqrt(tau), observed=data)  # Likelihood model\n",
        "    trace2 = pm.sample(2000, return_inferencedata=True)  # Sampling\n",
        "\n",
        "# Compute diagnostics\n",
        "print(\"Model 2: Effective Sample Size\")\n",
        "print(az.ess(trace2))\n",
        "\n",
        "# Plot posterior distributions\n",
        "az.plot_posterior(trace2, var_names=[\"theta\", \"tau\"], figsize=(10, 4))\n",
        "plt.suptitle(\"Model 2: Posterior\")\n",
        "plt.show()\n"
      ],
      "metadata": {
        "colab": {
          "base_uri": "https://localhost:8080/",
          "height": 557,
          "referenced_widgets": [
            "c6832b0ca3314394a21a6213c0c16b10",
            "7bac5ae90186406b81a333fbeec2495b",
            "ff12a035b86a4e7c94e17033edd1dfb3",
            "3db39cbd59d743ecb3137bc3d4db99b4"
          ]
        },
        "id": "P71N2YuoP5-a",
        "outputId": "777315a2-22e0-4a49-b265-7f888a588be0"
      },
      "id": "P71N2YuoP5-a",
      "execution_count": 7,
      "outputs": [
        {
          "output_type": "display_data",
          "data": {
            "text/plain": [
              "Output()"
            ],
            "application/vnd.jupyter.widget-view+json": {
              "version_major": 2,
              "version_minor": 0,
              "model_id": "c6832b0ca3314394a21a6213c0c16b10"
            }
          },
          "metadata": {}
        },
        {
          "output_type": "display_data",
          "data": {
            "text/plain": [],
            "text/html": [
              "<pre style=\"white-space:pre;overflow-x:auto;line-height:normal;font-family:Menlo,'DejaVu Sans Mono',consolas,'Courier New',monospace\"></pre>\n"
            ]
          },
          "metadata": {}
        },
        {
          "output_type": "display_data",
          "data": {
            "text/plain": [
              "Output()"
            ],
            "application/vnd.jupyter.widget-view+json": {
              "version_major": 2,
              "version_minor": 0,
              "model_id": "ff12a035b86a4e7c94e17033edd1dfb3"
            }
          },
          "metadata": {}
        },
        {
          "output_type": "display_data",
          "data": {
            "text/plain": [],
            "text/html": [
              "<pre style=\"white-space:pre;overflow-x:auto;line-height:normal;font-family:Menlo,'DejaVu Sans Mono',consolas,'Courier New',monospace\"></pre>\n"
            ]
          },
          "metadata": {}
        },
        {
          "output_type": "stream",
          "name": "stdout",
          "text": [
            "Model 2: Effective Sample Size\n",
            "<xarray.Dataset> Size: 16B\n",
            "Dimensions:  ()\n",
            "Data variables:\n",
            "    tau      float64 8B 3.56e+03\n",
            "    theta    float64 8B 3.975e+03\n"
          ]
        },
        {
          "output_type": "display_data",
          "data": {
            "text/plain": [
              "<Figure size 1000x400 with 2 Axes>"
            ],
            "image/png": "[encoded data removed]"
          },
          "metadata": {}
        }
      ]
    },
    {
      "cell_type": "code",
      "source": [
        "# PyMC Model 3\n",
        "with pm.Model() as model3:\n",
        "    theta = pm.Laplace(\"theta\", mu=0, b=10)  # Laplace prior\n",
        "    tau = pm.Exponential(\"tau\", lam=1)  # Exponential prior\n",
        "    y_obs = pm.Normal(\"y_obs\", mu=theta, sigma=1/pm.math.sqrt(tau), observed=data)  # Likelihood model\n",
        "    trace3 = pm.sample(2000, return_inferencedata=True)  # Sampling\n",
        "\n",
        "# Compute diagnostics\n",
        "print(\"Model 3: Effective Sample Size\")\n",
        "print(az.ess(trace3))\n",
        "\n",
        "# Plot posterior distributions\n",
        "az.plot_posterior(trace3, var_names=[\"theta\", \"tau\"], figsize=(10, 4))\n",
        "plt.suptitle(\"Model 3: Posterior\")\n",
        "plt.show()\n"
      ],
      "metadata": {
        "colab": {
          "base_uri": "https://localhost:8080/",
          "height": 557,
          "referenced_widgets": [
            "8cefce5eb08d49b188225b7fa8b0c811",
            "d64e6be32bad4e09ac84e8defc197a85",
            "457e7af0f72c4071be9f66d6a186e0dd",
            "59454a51157f4806852144b0d96a2801"
          ]
        },
        "id": "vbquHJDmP7M4",
        "outputId": "bdd36bc1-7827-4bb1-c30c-ed37c9b20b14"
      },
      "id": "vbquHJDmP7M4",
      "execution_count": 8,
      "outputs": [
        {
          "output_type": "display_data",
          "data": {
            "text/plain": [
              "Output()"
            ],
            "application/vnd.jupyter.widget-view+json": {
              "version_major": 2,
              "version_minor": 0,
              "model_id": "8cefce5eb08d49b188225b7fa8b0c811"
            }
          },
          "metadata": {}
        },
        {
          "output_type": "display_data",
          "data": {
            "text/plain": [],
            "text/html": [
              "<pre style=\"white-space:pre;overflow-x:auto;line-height:normal;font-family:Menlo,'DejaVu Sans Mono',consolas,'Courier New',monospace\"></pre>\n"
            ]
          },
          "metadata": {}
        },
        {
          "output_type": "display_data",
          "data": {
            "text/plain": [
              "Output()"
            ],
            "application/vnd.jupyter.widget-view+json": {
              "version_major": 2,
              "version_minor": 0,
              "model_id": "457e7af0f72c4071be9f66d6a186e0dd"
            }
          },
          "metadata": {}
        },
        {
          "output_type": "display_data",
          "data": {
            "text/plain": [],
            "text/html": [
              "<pre style=\"white-space:pre;overflow-x:auto;line-height:normal;font-family:Menlo,'DejaVu Sans Mono',consolas,'Courier New',monospace\"></pre>\n"
            ]
          },
          "metadata": {}
        },
        {
          "output_type": "stream",
          "name": "stdout",
          "text": [
            "Model 3: Effective Sample Size\n",
            "<xarray.Dataset> Size: 16B\n",
            "Dimensions:  ()\n",
            "Data variables:\n",
            "    tau      float64 8B 3.962e+03\n",
            "    theta    float64 8B 4.201e+03\n"
          ]
        },
        {
          "output_type": "display_data",
          "data": {
            "text/plain": [
              "<Figure size 1000x400 with 2 Axes>"
            ],
            "image/png": "[encoded data removed]"
          },
          "metadata": {}
        }
      ]
    },
    {
      "cell_type": "markdown",
      "source": [
        "### Q3: Slice Sampling\n",
        "\n",
        "*First explain how the Markov algorithm of slice sampling as given below works. Then explain the steps by which slice sampling could be used in place of a Metropolis-Hasting step in a Metropolis within Gibbs algorithm where the full conditionals are only known up to a normalizing constant. In your explanation clarify what the curve that we're sampling beneath is, and what the initial value and steps are to create the draw for Gibbs sampling.*\n",
        "\n",
        "### Explanation of the Slice Sampling Algorithm\n",
        "\n",
        "Slice sampling is a Markov Chain Monte Carlo (MCMC) method used for sampling from an arbitrary distribution. It works as follows:\n",
        "\n",
        "1. **Define the target distribution** $f(x)$, from which we want to sample.\n",
        "2. **Choose an initial value** $x_0$.\n",
        "3. **Draw a horizontal slice** by:\n",
        "   - Sampling a vertical threshold $y \\sim \\text{Uniform}(0, f(x_0))$.\n",
        "   - This creates a \"slice\" where $f(x) > y$.\n",
        "4. **Find an interval** $[a, b]$ containing $x_0$ where $f(x) > y$.\n",
        "5. **Sample a new** $x$ uniformly from the interval $[a, b]$.\n",
        "6. **Repeat** the process to generate samples.\n",
        "\n",
        "This method allows efficient sampling, even when the normalization constant of $f(x)$ is unknown.\n",
        "\n",
        "### Using Slice Sampling in Metropolis-within-Gibbs\n",
        "\n",
        "In **Metropolis-within-Gibbs**, slice sampling can replace the **Metropolis-Hastings step** when:\n",
        "\n",
        "- The **full conditionals** are known **only up to a normalizing constant**.\n",
        "- Instead of proposing a new value and accepting/rejecting, slice sampling **directly samples from the conditional distribution**.\n",
        "\n",
        "### Steps to integrate slice sampling into Gibbs Sampling:\n",
        "\n",
        "1. For each variable $X_i$, **slice sample** from $P(X_i | X_{-i})$ instead of using Metropolis-Hastings.\n",
        "2. The remaining steps of Gibbs Sampling remain unchanged.\n",
        "3. This reduces the rejection rate compared to Metropolis-Hastings.\n"
      ],
      "metadata": {
        "id": "nV_qSHZ3PwVv"
      },
      "id": "nV_qSHZ3PwVv"
    },
    {
      "cell_type": "code",
      "execution_count": null,
      "id": "fd17e501",
      "metadata": {
        "id": "fd17e501"
      },
      "outputs": [],
      "source": [
        "def slice_f_at_y(f, x, y, x_grid=np.linspace(0,1,51)):\n",
        "\n",
        "    # find interval of grid points where f(x_grid) > y\n",
        "    # then extend the enterval so endpoints f(a)<y and f(b)<y\n",
        "    x_grid_delta = x_grid[1]-x_grid[0]\n",
        "    a,b = x_grid[f(x_grid)>y][[0,-1]]+[-x_grid_delta,x_grid_delta]\n",
        "    # a,b = x_grid[0,-1]  # make the interval all of x_grid\n",
        "\n",
        "    x_ = a + stats.uniform().rvs()*(b-a)\n",
        "    if f(x_)>y:\n",
        "        return x_,1  # in 1 try if f(x_)>y and \"x_ is under f\"\n",
        "    elif x_ < x:  # or if \"x_ was above f on the left side of the interval\"\n",
        "        x_l,x_r = x_,b\n",
        "    else:\n",
        "        x_l,x_r = a,x_  # or if \"x_ was above f on the right side of the interval\"\n",
        "    return slice_f_at_y_(f, x, y, x_l, x_r, tot = 2)  # try again with a reduced interval\n",
        "\n",
        "def slice_f_at_y_(f, x, y, x_l=0, x_r=1, tot=1):\n",
        "\n",
        "    x_ = x_l + stats.uniform().rvs()*(x_r-x_l)\n",
        "\n",
        "    if f(x_)>y:\n",
        "        return x_,tot\n",
        "    elif x_ < x:\n",
        "        x_l = x_\n",
        "    else:\n",
        "        x_r = x_\n",
        "    return slice_f_at_y_(f, x, y, x_l, x_r, tot = tot+1)\n"
      ]
    },
    {
      "cell_type": "code",
      "execution_count": null,
      "id": "3d820203",
      "metadata": {
        "id": "3d820203"
      },
      "outputs": [],
      "source": [
        "x_grid = np.linspace(0,1,1000)\n",
        "f = lambda x: stats.beta(1.5,3).pdf(x)\n",
        "plt.plot(x_grid, f(x_grid))\n",
        "\n",
        "m = 1000\n",
        "x = np.zeros([m+1,3])\n",
        "x[:2,0] = 0.25\n",
        "\n",
        "plot_trace = 10\n",
        "for t in range(1,m):\n",
        "\n",
        "    x[t,1] = stats.uniform().rvs()*f(x[t,0])\n",
        "    if t < plot_trace:\n",
        "        plt.plot([x[t,0]]*2, [x[t-1,1],x[t,1]], 'k')\n",
        "\n",
        "    x[t+1,0],x[t+1,2] = slice_f_at_y(f, x[t,0], x[t,1])\n",
        "    if t < plot_trace:\n",
        "        if t==1:\n",
        "            plt.plot([x[t,0], x[t+1,0]], [x[t,1]]*2, 'k--', label=str(plot_trace)+ \" iterations\")\n",
        "        plt.plot([x[t,0], x[t+1,0]], [x[t,1]]*2, 'k--')\n",
        "\n",
        "plt.hist(x[:,0], density=True, label=str(m)+\" iterations\\n x values only\")\n",
        "plt.legend();"
      ]
    },
    {
      "cell_type": "code",
      "execution_count": null,
      "id": "1f057239",
      "metadata": {
        "id": "1f057239"
      },
      "outputs": [],
      "source": []
    }
  ],
  "metadata": {
    "kernelspec": {
      "display_name": "Python 3 (ipykernel)",
      "language": "python",
      "name": "python3"
    },
    "language_info": {
      "codemirror_mode": {
        "name": "ipython",
        "version": 3
      },
      "file_extension": ".py",
      "mimetype": "text/x-python",
      "name": "python",
      "nbconvert_exporter": "python",
      "pygments_lexer": "ipython3",
      "version": "3.11.4"
    },
    "colab": {
      "provenance": []
    },
    "widgets": {
      "application/vnd.jupyter.widget-state+json": {
        "1f967221c299477cb2e1b0280039e40c": {
          "model_module": "@jupyter-widgets/output",
          "model_name": "OutputModel",
          "model_module_version": "1.0.0",
          "state": {
            "_dom_classes": [],
            "_model_module": "@jupyter-widgets/output",
            "_model_module_version": "1.0.0",
            "_model_name": "OutputModel",
            "_view_count": null,
            "_view_module": "@jupyter-widgets/output",
            "_view_module_version": "1.0.0",
            "_view_name": "OutputView",
            "layout": "IPY_MODEL_866920aae97c40889c89798a0a8f4fd9",
            "msg_id": "",
            "outputs": [
              {
                "output_type": "display_data",
                "data": {
                  "text/plain": "Sampling chain 0, 0 divergences \u001b[32m━━━━━━━━━━━━━━━━━━━━━━━━━━━━━━━━━━━━━━━━\u001b[0m \u001b[35m100%\u001b[0m \u001b[36m0:00:00\u001b[0m / \u001b[33m0:00:01\u001b[0m\n",
                  "text/html": "<pre style=\"white-space:pre;overflow-x:auto;line-height:normal;font-family:Menlo,'DejaVu Sans Mono',consolas,'Courier New',monospace\">Sampling chain 0, 0 divergences <span style=\"color: #008000; text-decoration-color: #008000\">━━━━━━━━━━━━━━━━━━━━━━━━━━━━━━━━━━━━━━━━</span> <span style=\"color: #800080; text-decoration-color: #800080\">100%</span> <span style=\"color: #008080; text-decoration-color: #008080\">0:00:00</span> / <span style=\"color: #808000; text-decoration-color: #808000\">0:00:01</span>\n</pre>\n"
                },
                "metadata": {}
              }
            ]
          }
        },
        "866920aae97c40889c89798a0a8f4fd9": {
          "model_module": "@jupyter-widgets/base",
          "model_name": "LayoutModel",
          "model_module_version": "1.2.0",
          "state": {
            "_model_module": "@jupyter-widgets/base",
            "_model_module_version": "1.2.0",
            "_model_name": "LayoutModel",
            "_view_count": null,
            "_view_module": "@jupyter-widgets/base",
            "_view_module_version": "1.2.0",
            "_view_name": "LayoutView",
            "align_content": null,
            "align_items": null,
            "align_self": null,
            "border": null,
            "bottom": null,
            "display": null,
            "flex": null,
            "flex_flow": null,
            "grid_area": null,
            "grid_auto_columns": null,
            "grid_auto_flow": null,
            "grid_auto_rows": null,
            "grid_column": null,
            "grid_gap": null,
            "grid_row": null,
            "grid_template_areas": null,
            "grid_template_columns": null,
            "grid_template_rows": null,
            "height": null,
            "justify_content": null,
            "justify_items": null,
            "left": null,
            "margin": null,
            "max_height": null,
            "max_width": null,
            "min_height": null,
            "min_width": null,
            "object_fit": null,
            "object_position": null,
            "order": null,
            "overflow": null,
            "overflow_x": null,
            "overflow_y": null,
            "padding": null,
            "right": null,
            "top": null,
            "visibility": null,
            "width": null
          }
        },
        "22891abb6d8440ce87a93f3896426710": {
          "model_module": "@jupyter-widgets/output",
          "model_name": "OutputModel",
          "model_module_version": "1.0.0",
          "state": {
            "_dom_classes": [],
            "_model_module": "@jupyter-widgets/output",
            "_model_module_version": "1.0.0",
            "_model_name": "OutputModel",
            "_view_count": null,
            "_view_module": "@jupyter-widgets/output",
            "_view_module_version": "1.0.0",
            "_view_name": "OutputView",
            "layout": "IPY_MODEL_536bd64af52644f8b4130ccc22e4c65f",
            "msg_id": "",
            "outputs": [
              {
                "output_type": "display_data",
                "data": {
                  "text/plain": "Sampling chain 1, 0 divergences \u001b[32m━━━━━━━━━━━━━━━━━━━━━━━━━━━━━━━━━━━━━━━━\u001b[0m \u001b[35m100%\u001b[0m \u001b[36m0:00:00\u001b[0m / \u001b[33m0:00:02\u001b[0m\n",
                  "text/html": "<pre style=\"white-space:pre;overflow-x:auto;line-height:normal;font-family:Menlo,'DejaVu Sans Mono',consolas,'Courier New',monospace\">Sampling chain 1, 0 divergences <span style=\"color: #008000; text-decoration-color: #008000\">━━━━━━━━━━━━━━━━━━━━━━━━━━━━━━━━━━━━━━━━</span> <span style=\"color: #800080; text-decoration-color: #800080\">100%</span> <span style=\"color: #008080; text-decoration-color: #008080\">0:00:00</span> / <span style=\"color: #808000; text-decoration-color: #808000\">0:00:02</span>\n</pre>\n"
                },
                "metadata": {}
              }
            ]
          }
        },
        "536bd64af52644f8b4130ccc22e4c65f": {
          "model_module": "@jupyter-widgets/base",
          "model_name": "LayoutModel",
          "model_module_version": "1.2.0",
          "state": {
            "_model_module": "@jupyter-widgets/base",
            "_model_module_version": "1.2.0",
            "_model_name": "LayoutModel",
            "_view_count": null,
            "_view_module": "@jupyter-widgets/base",
            "_view_module_version": "1.2.0",
            "_view_name": "LayoutView",
            "align_content": null,
            "align_items": null,
            "align_self": null,
            "border": null,
            "bottom": null,
            "display": null,
            "flex": null,
            "flex_flow": null,
            "grid_area": null,
            "grid_auto_columns": null,
            "grid_auto_flow": null,
            "grid_auto_rows": null,
            "grid_column": null,
            "grid_gap": null,
            "grid_row": null,
            "grid_template_areas": null,
            "grid_template_columns": null,
            "grid_template_rows": null,
            "height": null,
            "justify_content": null,
            "justify_items": null,
            "left": null,
            "margin": null,
            "max_height": null,
            "max_width": null,
            "min_height": null,
            "min_width": null,
            "object_fit": null,
            "object_position": null,
            "order": null,
            "overflow": null,
            "overflow_x": null,
            "overflow_y": null,
            "padding": null,
            "right": null,
            "top": null,
            "visibility": null,
            "width": null
          }
        },
        "c6832b0ca3314394a21a6213c0c16b10": {
          "model_module": "@jupyter-widgets/output",
          "model_name": "OutputModel",
          "model_module_version": "1.0.0",
          "state": {
            "_dom_classes": [],
            "_model_module": "@jupyter-widgets/output",
            "_model_module_version": "1.0.0",
            "_model_name": "OutputModel",
            "_view_count": null,
            "_view_module": "@jupyter-widgets/output",
            "_view_module_version": "1.0.0",
            "_view_name": "OutputView",
            "layout": "IPY_MODEL_7bac5ae90186406b81a333fbeec2495b",
            "msg_id": "",
            "outputs": [
              {
                "output_type": "display_data",
                "data": {
                  "text/plain": "Sampling chain 0, 0 divergences \u001b[32m━━━━━━━━━━━━━━━━━━━━━━━━━━━━━━━━━━━━━━━━\u001b[0m \u001b[35m100%\u001b[0m \u001b[36m0:00:00\u001b[0m / \u001b[33m0:00:01\u001b[0m\n",
                  "text/html": "<pre style=\"white-space:pre;overflow-x:auto;line-height:normal;font-family:Menlo,'DejaVu Sans Mono',consolas,'Courier New',monospace\">Sampling chain 0, 0 divergences <span style=\"color: #008000; text-decoration-color: #008000\">━━━━━━━━━━━━━━━━━━━━━━━━━━━━━━━━━━━━━━━━</span> <span style=\"color: #800080; text-decoration-color: #800080\">100%</span> <span style=\"color: #008080; text-decoration-color: #008080\">0:00:00</span> / <span style=\"color: #808000; text-decoration-color: #808000\">0:00:01</span>\n</pre>\n"
                },
                "metadata": {}
              }
            ]
          }
        },
        "7bac5ae90186406b81a333fbeec2495b": {
          "model_module": "@jupyter-widgets/base",
          "model_name": "LayoutModel",
          "model_module_version": "1.2.0",
          "state": {
            "_model_module": "@jupyter-widgets/base",
            "_model_module_version": "1.2.0",
            "_model_name": "LayoutModel",
            "_view_count": null,
            "_view_module": "@jupyter-widgets/base",
            "_view_module_version": "1.2.0",
            "_view_name": "LayoutView",
            "align_content": null,
            "align_items": null,
            "align_self": null,
            "border": null,
            "bottom": null,
            "display": null,
            "flex": null,
            "flex_flow": null,
            "grid_area": null,
            "grid_auto_columns": null,
            "grid_auto_flow": null,
            "grid_auto_rows": null,
            "grid_column": null,
            "grid_gap": null,
            "grid_row": null,
            "grid_template_areas": null,
            "grid_template_columns": null,
            "grid_template_rows": null,
            "height": null,
            "justify_content": null,
            "justify_items": null,
            "left": null,
            "margin": null,
            "max_height": null,
            "max_width": null,
            "min_height": null,
            "min_width": null,
            "object_fit": null,
            "object_position": null,
            "order": null,
            "overflow": null,
            "overflow_x": null,
            "overflow_y": null,
            "padding": null,
            "right": null,
            "top": null,
            "visibility": null,
            "width": null
          }
        },
        "ff12a035b86a4e7c94e17033edd1dfb3": {
          "model_module": "@jupyter-widgets/output",
          "model_name": "OutputModel",
          "model_module_version": "1.0.0",
          "state": {
            "_dom_classes": [],
            "_model_module": "@jupyter-widgets/output",
            "_model_module_version": "1.0.0",
            "_model_name": "OutputModel",
            "_view_count": null,
            "_view_module": "@jupyter-widgets/output",
            "_view_module_version": "1.0.0",
            "_view_name": "OutputView",
            "layout": "IPY_MODEL_3db39cbd59d743ecb3137bc3d4db99b4",
            "msg_id": "",
            "outputs": [
              {
                "output_type": "display_data",
                "data": {
                  "text/plain": "Sampling chain 1, 0 divergences \u001b[32m━━━━━━━━━━━━━━━━━━━━━━━━━━━━━━━━━━━━━━━━\u001b[0m \u001b[35m100%\u001b[0m \u001b[36m0:00:00\u001b[0m / \u001b[33m0:00:01\u001b[0m\n",
                  "text/html": "<pre style=\"white-space:pre;overflow-x:auto;line-height:normal;font-family:Menlo,'DejaVu Sans Mono',consolas,'Courier New',monospace\">Sampling chain 1, 0 divergences <span style=\"color: #008000; text-decoration-color: #008000\">━━━━━━━━━━━━━━━━━━━━━━━━━━━━━━━━━━━━━━━━</span> <span style=\"color: #800080; text-decoration-color: #800080\">100%</span> <span style=\"color: #008080; text-decoration-color: #008080\">0:00:00</span> / <span style=\"color: #808000; text-decoration-color: #808000\">0:00:01</span>\n</pre>\n"
                },
                "metadata": {}
              }
            ]
          }
        },
        "3db39cbd59d743ecb3137bc3d4db99b4": {
          "model_module": "@jupyter-widgets/base",
          "model_name": "LayoutModel",
          "model_module_version": "1.2.0",
          "state": {
            "_model_module": "@jupyter-widgets/base",
            "_model_module_version": "1.2.0",
            "_model_name": "LayoutModel",
            "_view_count": null,
            "_view_module": "@jupyter-widgets/base",
            "_view_module_version": "1.2.0",
            "_view_name": "LayoutView",
            "align_content": null,
            "align_items": null,
            "align_self": null,
            "border": null,
            "bottom": null,
            "display": null,
            "flex": null,
            "flex_flow": null,
            "grid_area": null,
            "grid_auto_columns": null,
            "grid_auto_flow": null,
            "grid_auto_rows": null,
            "grid_column": null,
            "grid_gap": null,
            "grid_row": null,
            "grid_template_areas": null,
            "grid_template_columns": null,
            "grid_template_rows": null,
            "height": null,
            "justify_content": null,
            "justify_items": null,
            "left": null,
            "margin": null,
            "max_height": null,
            "max_width": null,
            "min_height": null,
            "min_width": null,
            "object_fit": null,
            "object_position": null,
            "order": null,
            "overflow": null,
            "overflow_x": null,
            "overflow_y": null,
            "padding": null,
            "right": null,
            "top": null,
            "visibility": null,
            "width": null
          }
        },
        "8cefce5eb08d49b188225b7fa8b0c811": {
          "model_module": "@jupyter-widgets/output",
          "model_name": "OutputModel",
          "model_module_version": "1.0.0",
          "state": {
            "_dom_classes": [],
            "_model_module": "@jupyter-widgets/output",
            "_model_module_version": "1.0.0",
            "_model_name": "OutputModel",
            "_view_count": null,
            "_view_module": "@jupyter-widgets/output",
            "_view_module_version": "1.0.0",
            "_view_name": "OutputView",
            "layout": "IPY_MODEL_d64e6be32bad4e09ac84e8defc197a85",
            "msg_id": "",
            "outputs": [
              {
                "output_type": "display_data",
                "data": {
                  "text/plain": "Sampling chain 0, 0 divergences \u001b[32m━━━━━━━━━━━━━━━━━━━━━━━━━━━━━━━━━━━━━━━━\u001b[0m \u001b[35m100%\u001b[0m \u001b[36m0:00:00\u001b[0m / \u001b[33m0:00:01\u001b[0m\n",
                  "text/html": "<pre style=\"white-space:pre;overflow-x:auto;line-height:normal;font-family:Menlo,'DejaVu Sans Mono',consolas,'Courier New',monospace\">Sampling chain 0, 0 divergences <span style=\"color: #008000; text-decoration-color: #008000\">━━━━━━━━━━━━━━━━━━━━━━━━━━━━━━━━━━━━━━━━</span> <span style=\"color: #800080; text-decoration-color: #800080\">100%</span> <span style=\"color: #008080; text-decoration-color: #008080\">0:00:00</span> / <span style=\"color: #808000; text-decoration-color: #808000\">0:00:01</span>\n</pre>\n"
                },
                "metadata": {}
              }
            ]
          }
        },
        "d64e6be32bad4e09ac84e8defc197a85": {
          "model_module": "@jupyter-widgets/base",
          "model_name": "LayoutModel",
          "model_module_version": "1.2.0",
          "state": {
            "_model_module": "@jupyter-widgets/base",
            "_model_module_version": "1.2.0",
            "_model_name": "LayoutModel",
            "_view_count": null,
            "_view_module": "@jupyter-widgets/base",
            "_view_module_version": "1.2.0",
            "_view_name": "LayoutView",
            "align_content": null,
            "align_items": null,
            "align_self": null,
            "border": null,
            "bottom": null,
            "display": null,
            "flex": null,
            "flex_flow": null,
            "grid_area": null,
            "grid_auto_columns": null,
            "grid_auto_flow": null,
            "grid_auto_rows": null,
            "grid_column": null,
            "grid_gap": null,
            "grid_row": null,
            "grid_template_areas": null,
            "grid_template_columns": null,
            "grid_template_rows": null,
            "height": null,
            "justify_content": null,
            "justify_items": null,
            "left": null,
            "margin": null,
            "max_height": null,
            "max_width": null,
            "min_height": null,
            "min_width": null,
            "object_fit": null,
            "object_position": null,
            "order": null,
            "overflow": null,
            "overflow_x": null,
            "overflow_y": null,
            "padding": null,
            "right": null,
            "top": null,
            "visibility": null,
            "width": null
          }
        },
        "457e7af0f72c4071be9f66d6a186e0dd": {
          "model_module": "@jupyter-widgets/output",
          "model_name": "OutputModel",
          "model_module_version": "1.0.0",
          "state": {
            "_dom_classes": [],
            "_model_module": "@jupyter-widgets/output",
            "_model_module_version": "1.0.0",
            "_model_name": "OutputModel",
            "_view_count": null,
            "_view_module": "@jupyter-widgets/output",
            "_view_module_version": "1.0.0",
            "_view_name": "OutputView",
            "layout": "IPY_MODEL_59454a51157f4806852144b0d96a2801",
            "msg_id": "",
            "outputs": [
              {
                "output_type": "display_data",
                "data": {
                  "text/plain": "Sampling chain 1, 0 divergences \u001b[32m━━━━━━━━━━━━━━━━━━━━━━━━━━━━━━━━━━━━━━━━\u001b[0m \u001b[35m100%\u001b[0m \u001b[36m0:00:00\u001b[0m / \u001b[33m0:00:01\u001b[0m\n",
                  "text/html": "<pre style=\"white-space:pre;overflow-x:auto;line-height:normal;font-family:Menlo,'DejaVu Sans Mono',consolas,'Courier New',monospace\">Sampling chain 1, 0 divergences <span style=\"color: #008000; text-decoration-color: #008000\">━━━━━━━━━━━━━━━━━━━━━━━━━━━━━━━━━━━━━━━━</span> <span style=\"color: #800080; text-decoration-color: #800080\">100%</span> <span style=\"color: #008080; text-decoration-color: #008080\">0:00:00</span> / <span style=\"color: #808000; text-decoration-color: #808000\">0:00:01</span>\n</pre>\n"
                },
                "metadata": {}
              }
            ]
          }
        },
        "59454a51157f4806852144b0d96a2801": {
          "model_module": "@jupyter-widgets/base",
          "model_name": "LayoutModel",
          "model_module_version": "1.2.0",
          "state": {
            "_model_module": "@jupyter-widgets/base",
            "_model_module_version": "1.2.0",
            "_model_name": "LayoutModel",
            "_view_count": null,
            "_view_module": "@jupyter-widgets/base",
            "_view_module_version": "1.2.0",
            "_view_name": "LayoutView",
            "align_content": null,
            "align_items": null,
            "align_self": null,
            "border": null,
            "bottom": null,
            "display": null,
            "flex": null,
            "flex_flow": null,
            "grid_area": null,
            "grid_auto_columns": null,
            "grid_auto_flow": null,
            "grid_auto_rows": null,
            "grid_column": null,
            "grid_gap": null,
            "grid_row": null,
            "grid_template_areas": null,
            "grid_template_columns": null,
            "grid_template_rows": null,
            "height": null,
            "justify_content": null,
            "justify_items": null,
            "left": null,
            "margin": null,
            "max_height": null,
            "max_width": null,
            "min_height": null,
            "min_width": null,
            "object_fit": null,
            "object_position": null,
            "order": null,
            "overflow": null,
            "overflow_x": null,
            "overflow_y": null,
            "padding": null,
            "right": null,
            "top": null,
            "visibility": null,
            "width": null
          }
        }
      }
    }
  },
  "nbformat": 4,
  "nbformat_minor": 5
}